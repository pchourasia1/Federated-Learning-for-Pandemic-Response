{
 "cells": [
  {
   "cell_type": "code",
   "execution_count": 1,
   "id": "39879e9c",
   "metadata": {},
   "outputs": [
    {
     "name": "stderr",
     "output_type": "stream",
     "text": [
      "C:\\Users\\pchourasia1\\Anaconda3\\lib\\site-packages\\scipy\\__init__.py:138: UserWarning: A NumPy version >=1.16.5 and <1.23.0 is required for this version of SciPy (detected version 1.23.3)\n",
      "  warnings.warn(f\"A NumPy version >={np_minversion} and <{np_maxversion} is required for this version of \"\n"
     ]
    },
    {
     "name": "stdout",
     "output_type": "stream",
     "text": [
      "done\n"
     ]
    }
   ],
   "source": [
    "import numpy as np\n",
    "import numpy as np\n",
    "from collections import Counter\n",
    "from sklearn.model_selection import train_test_split\n",
    "from sklearn.svm import SVC\n",
    "from sklearn.metrics import classification_report\n",
    "\n",
    "import numpy as np # linear algebra\n",
    "import pandas as pd # data processing, CSV file I/O (e.g. pd.read_csv)\n",
    "from sklearn.decomposition import TruncatedSVD\n",
    "import random\n",
    "# import seaborn as sns\n",
    "import os.path as path\n",
    "import os\n",
    "# import matplotlib\n",
    "# import matplotlib.font_manager\n",
    "# import matplotlib.pyplot as plt # graphs plotting\n",
    "# import Bio\n",
    "# from Bio import SeqIO # some BioPython that will come in handy\n",
    "#matplotlib inline\n",
    "\n",
    "from itertools import cycle\n",
    "\n",
    "from sklearn import svm, datasets\n",
    "from sklearn.metrics import roc_curve, auc\n",
    "from sklearn.model_selection import train_test_split\n",
    "from sklearn.preprocessing import label_binarize\n",
    "from sklearn.multiclass import OneVsRestClassifier\n",
    "from scipy import interp\n",
    "from sklearn.metrics import roc_auc_score\n",
    "\n",
    "\n",
    "# from matplotlib import rc\n",
    "# # for Arial typefont\n",
    "# matplotlib.rcParams['font.family'] = 'Arial'\n",
    "\n",
    "from sklearn.model_selection import train_test_split\n",
    "from sklearn.linear_model import Lasso, LogisticRegression\n",
    "from sklearn.feature_selection import SelectFromModel\n",
    "from sklearn.preprocessing import StandardScaler\n",
    "\n",
    "from sklearn.datasets import load_iris\n",
    "from sklearn.model_selection import train_test_split\n",
    "from sklearn.naive_bayes import GaussianNB\n",
    "from sklearn import metrics\n",
    "from sklearn import svm\n",
    "\n",
    "from sklearn.datasets import load_iris\n",
    "from sklearn.model_selection import train_test_split\n",
    "from sklearn.naive_bayes import GaussianNB\n",
    "from sklearn import metrics\n",
    "\n",
    "import pandas as pd\n",
    "import sklearn\n",
    "from sklearn import preprocessing\n",
    "from sklearn.model_selection import train_test_split \n",
    "from sklearn.preprocessing import StandardScaler  \n",
    "from sklearn.neural_network import MLPClassifier \n",
    "from sklearn.metrics import classification_report, confusion_matrix \n",
    "\n",
    "from sklearn.neighbors import KNeighborsClassifier\n",
    "\n",
    "from sklearn.linear_model import LogisticRegression\n",
    "from sklearn.metrics import classification_report, confusion_matrix\n",
    "\n",
    "from pandas import DataFrame\n",
    "\n",
    "from sklearn.model_selection import KFold \n",
    "from sklearn.model_selection import RepeatedKFold\n",
    "\n",
    "from sklearn.metrics import confusion_matrix\n",
    "\n",
    "from numpy import mean\n",
    "\n",
    "# import seaborn as sns\n",
    "\n",
    "import itertools\n",
    "from itertools import product\n",
    "\n",
    "import csv\n",
    "\n",
    "from sklearn.model_selection import ShuffleSplit # or StratifiedShuffleSplit\n",
    "\n",
    "from sklearn.decomposition import KernelPCA\n",
    "\n",
    "import timeit\n",
    "# from fnvhash import fnv1a_32\n",
    "import matplotlib.pyplot as plt\n",
    "import math\n",
    "\n",
    "from ctypes import c_ulonglong\n",
    "import ctypes\n",
    "\n",
    "import timeit\n",
    "\n",
    "\n",
    "\n",
    "\n",
    "\n",
    "\n",
    "\n",
    "import tensorflow as tf\n",
    "from sklearn.preprocessing import LabelEncoder\n",
    "\n",
    "def amino_acid_to_one_hot(seq):\n",
    "    \"\"\"Convert amino acid sequence to one-hot encoding\"\"\"\n",
    "    aa_to_index = {'A': 0, 'C': 1, 'D': 2, 'E': 3, 'F': 4, 'G': 5, 'H': 6, 'I': 7, 'K': 8, 'L': 9, 'M': 10,\n",
    "                   'N': 11, 'P': 12, 'Q': 13, 'R': 14, 'S': 15, 'T': 16, 'V': 17, 'W': 18, 'X': 19, 'Y': 20}\n",
    "\n",
    "    one_hot_encoding = []\n",
    "    for aa in seq:\n",
    "        one_hot = [0] * len(aa_to_index)\n",
    "        one_hot[aa_to_index[aa]] = 1\n",
    "        one_hot_encoding.append(one_hot)\n",
    "    return one_hot_encoding\n",
    "\n",
    "import numpy as np\n",
    "import tensorflow as tf\n",
    "from sklearn.model_selection import train_test_split\n",
    "from tensorflow.keras.preprocessing.sequence import pad_sequences\n",
    "from tensorflow.keras.utils import to_categorical\n",
    "\n",
    "\n",
    "print(\"done\")"
   ]
  },
  {
   "cell_type": "code",
   "execution_count": 2,
   "id": "f2a2336b-1825-4144-8784-f6424da06976",
   "metadata": {},
   "outputs": [],
   "source": [
    "def roc_auc_score_multiclass(actual_class, pred_class, average = \"macro\"):\n",
    "\n",
    "    unique_class = set(actual_class)\n",
    "    roc_auc_dict = {}\n",
    "    for per_class in unique_class:\n",
    "        #creating a list of all the classes except the current class \n",
    "        other_class = [x for x in unique_class if x != per_class]\n",
    "\n",
    "        #marking the current class as 1 and all other classes as 0\n",
    "        new_actual_class = [0 if x in other_class else 1 for x in actual_class]\n",
    "        new_pred_class = [0 if x in other_class else 1 for x in pred_class]\n",
    "\n",
    "        #using the sklearn metrics method to calculate the roc_auc_score\n",
    "        roc_auc = roc_auc_score(new_actual_class, new_pred_class, average = average)\n",
    "        roc_auc_dict[per_class] = roc_auc\n",
    "    \n",
    "    \n",
    "    check = pd.DataFrame(roc_auc_dict.items())\n",
    "    return mean(check)"
   ]
  },
  {
   "cell_type": "markdown",
   "id": "9864a85b-f4e6-40aa-b3bc-6f55b1f2b6fd",
   "metadata": {},
   "source": [
    "# Data processing "
   ]
  },
  {
   "cell_type": "code",
   "execution_count": 3,
   "id": "27e2735d-5546-47bd-aed3-5873bdf48a13",
   "metadata": {},
   "outputs": [],
   "source": [
    "seq_data = np.load(\"C:/Users/pchourasia1/Desktop/FL_Workshop/data/seq_data_7000.npy\",allow_pickle=True)\n",
    "att_data = np.load(\"C:/Users/pchourasia1/Desktop/FL_Workshop/data/seq_data_variant_names_7000.npy\",allow_pickle=True)\n",
    "attribute_data = np.load(\"C:/Users/pchourasia1/Desktop/FL_Workshop/data/seq_data_all_attributes_7000.npy\",allow_pickle=True)"
   ]
  },
  {
   "cell_type": "code",
   "execution_count": 4,
   "id": "0bb96037-d984-4574-b743-6d11c9495f6e",
   "metadata": {},
   "outputs": [
    {
     "name": "stdout",
     "output_type": "stream",
     "text": [
      "Attribute data preprocessing Done\n"
     ]
    }
   ],
   "source": [
    "attr_new = []\n",
    "for i in range(len(att_data)):\n",
    "    aa = str(att_data[i]).replace(\"[\",\"\")\n",
    "    aa_1 = aa.replace(\"]\",\"\")\n",
    "    aa_2 = aa_1.replace(\"\\'\",\"\")\n",
    "    attr_new.append(aa_2)\n",
    "\n",
    "unique_hst = list(np.unique(attr_new))\n",
    "\n",
    "int_hosts = []\n",
    "for ind_unique in range(len(attr_new)):\n",
    "    variant_tmp = attr_new[ind_unique]\n",
    "    ind_tmp = unique_hst.index(variant_tmp)\n",
    "    int_hosts.append(ind_tmp)\n",
    "\n",
    "    \n",
    "def amino_acid_to_int(seq):\n",
    "    \"\"\"Convert amino acid sequence to one-hot encoding\"\"\"\n",
    "    aa_to_index = {'A': 0, 'C': 1, 'D': 2, 'E': 3, 'F': 4, 'G': 5, 'H': 6, 'I': 7, 'K': 8, 'L': 9, 'M': 10,\n",
    "                   'N': 11, 'P': 12, 'Q': 13, 'R': 14, 'S': 15, 'T': 16, 'V': 17, 'W': 18, 'X': 19, 'Y': 20}\n",
    "\n",
    "    one_hot_encoding = []\n",
    "    for aa in seq:\n",
    "#         one_hot = [0] * len(aa_to_index)\n",
    "#         one_hot[aa_to_index[aa]] = 1\n",
    "        one_hot_encoding.append(aa_to_index[aa])\n",
    "    return one_hot_encoding\n",
    "\n",
    "seq_int = []\n",
    "for ii in range(len(seq_data)):\n",
    "    seq_int.append(amino_acid_to_int(seq_data[ii]))\n",
    "\n",
    "sequences = seq_int[:]\n",
    "labels = int_hosts[:]\n",
    "\n",
    "print(\"Attribute data preprocessing Done\")"
   ]
  },
  {
   "cell_type": "code",
   "execution_count": 5,
   "id": "fe8dc469-5b6d-46aa-9fa5-26b7b805d519",
   "metadata": {},
   "outputs": [],
   "source": [
    "total_amino_acids = 21\n",
    "# Define number of amino acids in each protein sequence\n",
    "# total_protein_sequences = 5000\n",
    "# num_amino_acids = 1000\n",
    "total_classes = len(np.unique(labels))\n",
    "\n",
    "# # Generate 15 random protein sequences\n",
    "# sequences = []\n",
    "# for i in range(total_protein_sequences):\n",
    "#     seq = [np.random.randint(1, 21) for j in range(num_amino_acids)]\n",
    "#     sequences.append(seq)\n",
    "\n",
    "# Encode the sequences into one-hot encoding\n",
    "one_hot_sequences = []\n",
    "for seq in sequences:\n",
    "    one_hot = to_categorical(seq, num_classes=total_amino_acids)\n",
    "    one_hot_sequences.append(one_hot)\n",
    "\n",
    "# Pad the sequences to have the same length\n",
    "padded_sequences = pad_sequences(one_hot_sequences, padding='post')\n",
    "\n",
    "# # Assign class labels to the sequences\n",
    "# labels = [np.random.randint(1, total_classes) for i in range(total_protein_sequences)]\n",
    "encoded_labels = to_categorical(labels, num_classes=total_classes)"
   ]
  },
  {
   "cell_type": "code",
   "execution_count": 6,
   "id": "90e4fbd0-399a-4196-be17-df78aa39320a",
   "metadata": {},
   "outputs": [
    {
     "data": {
      "text/plain": [
       "(1274, 6, 22, 1274)"
      ]
     },
     "execution_count": 6,
     "metadata": {},
     "output_type": "execute_result"
    }
   ],
   "source": [
    "len(sequences[1]), labels[1], len(encoded_labels[1]), len(padded_sequences[1])"
   ]
  },
  {
   "cell_type": "code",
   "execution_count": 7,
   "id": "8625c40d-9108-463f-a9a8-186e231bfd2a",
   "metadata": {},
   "outputs": [],
   "source": [
    "countryList = []\n",
    "variants_USA = []\n",
    "variants_England = []\n",
    "variants_Germany = []\n",
    "variants_Denmark = []\n",
    "variants_Sweden = []\n",
    "variants_Japan = []\n",
    "variants_Scotland = []\n",
    "variants_Canada = []\n",
    "variants_France = []\n",
    "variants_Global = []\n",
    "\n",
    "variantName_USA = []\n",
    "variantName_England = []\n",
    "variantName_Germany = []\n",
    "variantName_Denmark = []\n",
    "variantName_Sweden = []\n",
    "variantName_Japan = []\n",
    "variantName_Scotland = []\n",
    "variantName_Canada = []\n",
    "variantName_France = []\n",
    "variantName_Global = []\n",
    "\n",
    "seq_USA = []\n",
    "seq_England = []\n",
    "seq_Germany = []\n",
    "seq_Denmark = []\n",
    "seq_Sweden = []\n",
    "seq_Japan = []\n",
    "seq_Scotland = []\n",
    "seq_Canada = []\n",
    "seq_France = []\n",
    "seq_Global = []\n",
    "\n",
    "\n",
    "for i in range(len(attribute_data)):\n",
    "    if attribute_data[i][5].split('/')[1] == 'USA':\n",
    "        variants_USA.append(encoded_labels[i]) \n",
    "        variantName_USA.append(labels[i]) \n",
    "        seq_USA.append(padded_sequences[i]) \n",
    "    if attribute_data[i][5].split('/')[1] == 'England':\n",
    "        variants_England.append(encoded_labels[i]) \n",
    "        variantName_England.append(labels[i]) \n",
    "        seq_England.append(padded_sequences[i]) \n",
    "    if attribute_data[i][5].split('/')[1] == 'Germany':\n",
    "        variants_Germany.append(encoded_labels[i]) \n",
    "        variantName_Germany.append(labels[i]) \n",
    "        seq_Germany.append(padded_sequences[i]) \n",
    "    if attribute_data[i][5].split('/')[1] == 'Denmark':\n",
    "        variants_Denmark.append(encoded_labels[i]) \n",
    "        variantName_Denmark.append(labels[i]) \n",
    "        seq_Denmark.append(padded_sequences[i]) \n",
    "    if attribute_data[i][5].split('/')[1] == 'Sweden':\n",
    "        variants_Sweden.append(encoded_labels[i])\n",
    "        variantName_Sweden.append(labels[i]) \n",
    "        seq_Sweden.append(padded_sequences[i]) \n",
    "    if attribute_data[i][5].split('/')[1] == 'Japan':\n",
    "        variants_Japan.append(encoded_labels[i]) \n",
    "        variantName_Japan.append(labels[i]) \n",
    "        seq_Japan.append(padded_sequences[i]) \n",
    "    if attribute_data[i][5].split('/')[1] == 'Scotland':\n",
    "        variants_Scotland.append(encoded_labels[i]) \n",
    "        variantName_Scotland.append(labels[i]) \n",
    "        seq_Scotland.append(padded_sequences[i]) \n",
    "    if attribute_data[i][5].split('/')[1] == 'Canada':\n",
    "        variants_Canada.append(encoded_labels[i])  \n",
    "        variantName_Canada.append(labels[i]) \n",
    "        seq_Canada.append(padded_sequences[i]) \n",
    "    if attribute_data[i][5].split('/')[1] == 'France':\n",
    "        variants_France.append(encoded_labels[i])     \n",
    "        variantName_France.append(labels[i]) \n",
    "        seq_France.append(padded_sequences[i]) \n",
    "    \n",
    "    if attribute_data[i][5].split('/')[1] not in ('USA','England','Germany','Denmark','Sweden','Japan','Scotland','Canada', 'France'):\n",
    "        variants_Global.append(encoded_labels[i])\n",
    "        variantName_Global.append(labels[i]) \n",
    "        seq_Global.append(padded_sequences[i]) \n",
    "    \n",
    "    countryList.append(attribute_data[i][5].split('/')[1])"
   ]
  },
  {
   "cell_type": "code",
   "execution_count": 8,
   "id": "f364e9eb-6ff5-4a6b-8b31-c88f806f9412",
   "metadata": {},
   "outputs": [
    {
     "data": {
      "text/plain": [
       "(array(['Albania', 'Angola', 'Argentina', 'Aruba', 'Australia', 'Austria',\n",
       "        'Bahamas', 'Bangladesh', 'Belgium', 'Benin', 'Bonaire', 'Brazil',\n",
       "        'Bulgaria', 'Cambodia', 'Canada', 'Chile', 'Colombia', 'Croatia',\n",
       "        'Curacao', 'Cyprus', 'DRC', 'Denmark', 'Ecuador', 'England',\n",
       "        'Estonia', 'Finland', 'France', 'Germany', 'Greece', 'Guadeloupe',\n",
       "        'Guatemala', 'Guinea', 'Hungary', 'Iceland', 'India', 'Indonesia',\n",
       "        'Ireland', 'Israel', 'Italy', 'Japan', 'Kenya', 'Latvia',\n",
       "        'Lebanon', 'Lithuania', 'Luxembourg', 'Malawi', 'Malaysia',\n",
       "        'Malta', 'Martinique', 'Mexico', 'Mozambique', 'Nepal',\n",
       "        'Netherlands', 'Norway', 'Pakistan', 'Philippines', 'Poland',\n",
       "        'Portugal', 'Qatar', 'Reunion', 'Romania', 'Russia', 'Scotland',\n",
       "        'Senegal', 'Singapore', 'Slovakia', 'Slovenia', 'Spain', 'Sweden',\n",
       "        'Switzerland', 'Taiwan', 'Thailand', 'Turkey', 'USA', 'Ukraine',\n",
       "        'Uruguay', 'Vietnam', 'Wales', 'Zambia', 'Zimbabwe', 'env'],\n",
       "       dtype='<U11'),\n",
       " 81)"
      ]
     },
     "execution_count": 8,
     "metadata": {},
     "output_type": "execute_result"
    }
   ],
   "source": [
    "np.unique(countryList), len(np.unique(countryList))"
   ]
  },
  {
   "cell_type": "code",
   "execution_count": 9,
   "id": "84364ddb-b860-419a-8b9c-5b512bd62ef5",
   "metadata": {},
   "outputs": [
    {
     "data": {
      "text/plain": [
       "USA           1779\n",
       "England       1662\n",
       "Germany        470\n",
       "Denmark        374\n",
       "Sweden         241\n",
       "              ... \n",
       "Guinea           1\n",
       "Nepal            1\n",
       "Bonaire          1\n",
       "Mozambique       1\n",
       "Guadeloupe       1\n",
       "Length: 81, dtype: int64"
      ]
     },
     "execution_count": 9,
     "metadata": {},
     "output_type": "execute_result"
    }
   ],
   "source": [
    "# pd.set_option(\"display.max_rows\", None)\n",
    "pd.Series(countryList).value_counts()"
   ]
  },
  {
   "cell_type": "code",
   "execution_count": 10,
   "id": "8c8963c2-91ec-4160-9d17-4a70ccfd0551",
   "metadata": {},
   "outputs": [
    {
     "data": {
      "text/plain": [
       "(1779,\n",
       " 6     636\n",
       " 10    315\n",
       " 18    178\n",
       " 2     123\n",
       " 16    106\n",
       " 17    100\n",
       " 20     76\n",
       " 15     64\n",
       " 1      58\n",
       " 12     35\n",
       " 5      28\n",
       " 3      25\n",
       " 0      18\n",
       " 14      9\n",
       " 21      6\n",
       " 8       1\n",
       " 11      1\n",
       " dtype: int64,\n",
       " 1779)"
      ]
     },
     "execution_count": 10,
     "metadata": {},
     "output_type": "execute_result"
    }
   ],
   "source": [
    "len(variantName_USA), pd.Series(variantName_USA).value_counts(), len(variants_USA)"
   ]
  },
  {
   "cell_type": "code",
   "execution_count": 11,
   "id": "c7c5ede3-619f-4c05-9791-52d42fa08278",
   "metadata": {},
   "outputs": [
    {
     "data": {
      "text/plain": [
       "(174,\n",
       " 6     90\n",
       " 18    23\n",
       " 7     17\n",
       " 2     13\n",
       " 1     11\n",
       " 14    10\n",
       " 0      5\n",
       " 8      2\n",
       " 3      1\n",
       " 17     1\n",
       " 20     1\n",
       " dtype: int64)"
      ]
     },
     "execution_count": 11,
     "metadata": {},
     "output_type": "execute_result"
    }
   ],
   "source": [
    "len(variants_France), pd.Series(variantName_France).value_counts()"
   ]
  },
  {
   "cell_type": "code",
   "execution_count": 12,
   "id": "1ae3d2c7-be58-450e-aa58-995bbd1e798c",
   "metadata": {},
   "outputs": [
    {
     "data": {
      "text/plain": [
       "1274"
      ]
     },
     "execution_count": 12,
     "metadata": {},
     "output_type": "execute_result"
    }
   ],
   "source": [
    "len(seq_France[1])"
   ]
  },
  {
   "cell_type": "code",
   "execution_count": 13,
   "id": "ac6d79a8-8987-405d-aeaa-7473971660fc",
   "metadata": {},
   "outputs": [],
   "source": [
    "# ('USA','England','Germany','Denmark','Sweden','Japan','Scotland','Canada', 'France'):"
   ]
  },
  {
   "cell_type": "markdown",
   "id": "62c9aa23",
   "metadata": {},
   "source": [
    "# Loading Data"
   ]
  },
  {
   "cell_type": "code",
   "execution_count": 33,
   "id": "2bc4df7f-4922-4d6e-90ea-0cca0a7e81b6",
   "metadata": {},
   "outputs": [],
   "source": [
    "seq_data = np.load(\"C:/Users/pchourasia1/Desktop/FL_Workshop/data/Bioinformatics_Seq_Data_2575_seq.npy\")\n",
    "attribute_data = np.load(\"C:/Users/pchourasia1/Desktop/FL_Workshop/data/Bioinformatics_attribute_Data_2575_attr.npy\",allow_pickle=True)"
   ]
  },
  {
   "cell_type": "code",
   "execution_count": 34,
   "id": "dabcc751",
   "metadata": {},
   "outputs": [
    {
     "name": "stdout",
     "output_type": "stream",
     "text": [
      "Attribute data preprocessing Done\n"
     ]
    }
   ],
   "source": [
    "# # Generate 5 random protein sequences with 10 amino acids each\n",
    "# Total_Training_seq = 15\n",
    "# np.random.seed(0)\n",
    "# sequences = [''.join(np.random.choice(['A', 'C', 'D', 'E', 'F', 'G', 'H', 'I', 'K', 'L', 'M', 'N', 'P', 'Q', 'R', \n",
    "#                                        'S', 'T', 'V', 'W', 'Y'], 10)) for i in range(Total_Training_seq)]\n",
    "# labels = [0, 1, 0, 1, 1, 3, 1, 3, 1, 1, 0, 2, 0, 1, 1]\n",
    "\n",
    "\n",
    "\n",
    "attr_new = []\n",
    "for i in range(len(attribute_data)):\n",
    "    aa = str(attribute_data[i]).replace(\"[\",\"\")\n",
    "    aa_1 = aa.replace(\"]\",\"\")\n",
    "    aa_2 = aa_1.replace(\"\\'\",\"\")\n",
    "    attr_new.append(aa_2)\n",
    "\n",
    "unique_hst = list(np.unique(attr_new))\n",
    "\n",
    "int_hosts = []\n",
    "for ind_unique in range(len(attr_new)):\n",
    "    variant_tmp = attr_new[ind_unique]\n",
    "    ind_tmp = unique_hst.index(variant_tmp)\n",
    "    int_hosts.append(ind_tmp)\n",
    "\n",
    "    \n",
    "def amino_acid_to_int(seq):\n",
    "    \"\"\"Convert amino acid sequence to one-hot encoding\"\"\"\n",
    "    aa_to_index = {'A': 0, 'C': 1, 'D': 2, 'E': 3, 'F': 4, 'G': 5, 'H': 6, 'I': 7, 'K': 8, 'L': 9, 'M': 10,\n",
    "                   'N': 11, 'P': 12, 'Q': 13, 'R': 14, 'S': 15, 'T': 16, 'V': 17, 'W': 18, 'X': 19, 'Y': 20}\n",
    "\n",
    "    one_hot_encoding = []\n",
    "    for aa in seq:\n",
    "#         one_hot = [0] * len(aa_to_index)\n",
    "#         one_hot[aa_to_index[aa]] = 1\n",
    "        one_hot_encoding.append(aa_to_index[aa])\n",
    "    return one_hot_encoding\n",
    "\n",
    "seq_int = []\n",
    "for ii in range(len(seq_data)):\n",
    "    seq_int.append(amino_acid_to_int(seq_data[ii]))\n",
    "\n",
    "sequences = seq_int[:]\n",
    "labels = int_hosts[:]\n",
    "\n",
    "print(\"Attribute data preprocessing Done\")\n"
   ]
  },
  {
   "cell_type": "code",
   "execution_count": 35,
   "id": "ac706398-c728-4ddd-a3df-e762c989d2ea",
   "metadata": {},
   "outputs": [],
   "source": [
    "# sequences[1]"
   ]
  },
  {
   "cell_type": "code",
   "execution_count": 36,
   "id": "dab41360",
   "metadata": {},
   "outputs": [],
   "source": [
    "# # Define number of amino acids in each protein sequence\n",
    "# total_protein_sequences = 5000\n",
    "# num_amino_acids = 1000\n",
    "# total_classes = 8\n",
    "# # Generate 15 random protein sequences\n",
    "# sequences = []\n",
    "# for i in range(total_protein_sequences):\n",
    "#     seq = [np.random.randint(1, 21) for j in range(num_amino_acids)]\n",
    "#     sequences.append(seq)"
   ]
  },
  {
   "cell_type": "code",
   "execution_count": 37,
   "id": "9ba67d7a",
   "metadata": {},
   "outputs": [],
   "source": [
    "total_amino_acids = 21\n",
    "# Define number of amino acids in each protein sequence\n",
    "# total_protein_sequences = 5000\n",
    "# num_amino_acids = 1000\n",
    "total_classes = len(np.unique(labels))\n",
    "\n",
    "# # Generate 15 random protein sequences\n",
    "# sequences = []\n",
    "# for i in range(total_protein_sequences):\n",
    "#     seq = [np.random.randint(1, 21) for j in range(num_amino_acids)]\n",
    "#     sequences.append(seq)\n",
    "\n",
    "# Encode the sequences into one-hot encoding\n",
    "one_hot_sequences = []\n",
    "for seq in sequences:\n",
    "    one_hot = to_categorical(seq, num_classes=total_amino_acids)\n",
    "    one_hot_sequences.append(one_hot)\n",
    "\n",
    "# Pad the sequences to have the same length\n",
    "padded_sequences = pad_sequences(one_hot_sequences, padding='post')\n",
    "\n",
    "# # Assign class labels to the sequences\n",
    "# labels = [np.random.randint(1, total_classes) for i in range(total_protein_sequences)]\n",
    "encoded_labels = to_categorical(labels, num_classes=total_classes)"
   ]
  },
  {
   "cell_type": "code",
   "execution_count": 7,
   "id": "c670c48b-8637-4877-8e10-a4df5fcc46bc",
   "metadata": {},
   "outputs": [
    {
     "data": {
      "text/plain": [
       "1274"
      ]
     },
     "execution_count": 7,
     "metadata": {},
     "output_type": "execute_result"
    }
   ],
   "source": [
    "len(padded_sequences[1])"
   ]
  },
  {
   "cell_type": "code",
   "execution_count": 7,
   "id": "0f75cf57",
   "metadata": {},
   "outputs": [],
   "source": [
    "# Split the sequences into training and testing set\n",
    "X_train_1, X_test, y_train_1, y_test = train_test_split(padded_sequences, encoded_labels, test_size=0.3)\n",
    "\n",
    "# Split the sequences into training 1 and training 2 set\n",
    "# X_train_local, X_train_global, y_train_local, y_train_global = train_test_split(X_train_1, y_train_1, test_size=0.3)"
   ]
  },
  {
   "cell_type": "code",
   "execution_count": 8,
   "id": "d61f7ed1",
   "metadata": {},
   "outputs": [],
   "source": [
    "# X_train_local.shape,len(sequences[0]), X_train_local, type(X_train_local), type(X_train_global)"
   ]
  },
  {
   "cell_type": "code",
   "execution_count": 9,
   "id": "0bc969d3",
   "metadata": {},
   "outputs": [],
   "source": [
    "# # Divide the training data into 5 parts\n",
    "# part_size = int(len(X_train_local) / 6)\n",
    "# train_parts = [X_train_local[i:i + part_size] for i in range(0, len(X_train_local), part_size)]\n",
    "# label_parts = [y_train_local[i:i + part_size] for i in range(0, len(y_train_local), part_size)]\n",
    "\n",
    "# print(len(train_parts))"
   ]
  },
  {
   "cell_type": "code",
   "execution_count": 10,
   "id": "724c4591-2057-423a-9de1-b738a119de79",
   "metadata": {},
   "outputs": [],
   "source": [
    "# type(train_parts), type(label_parts)"
   ]
  },
  {
   "cell_type": "markdown",
   "id": "04125fc7-68bd-4b71-934a-d3e25d6d9f38",
   "metadata": {},
   "source": [
    "## Continuie for Your Set"
   ]
  },
  {
   "cell_type": "code",
   "execution_count": 11,
   "id": "f9b2ca00-8add-4b56-bb87-a70278c07300",
   "metadata": {},
   "outputs": [
    {
     "data": {
      "text/plain": [
       "((4900, 1274, 21), (4900, 22), (2100, 1274, 21), (2100, 22))"
      ]
     },
     "execution_count": 11,
     "metadata": {},
     "output_type": "execute_result"
    }
   ],
   "source": [
    "X_train_1.shape, y_train_1.shape, X_test.shape, y_test.shape"
   ]
  },
  {
   "cell_type": "code",
   "execution_count": 12,
   "id": "92db134d",
   "metadata": {},
   "outputs": [
    {
     "name": "stdout",
     "output_type": "stream",
     "text": [
      "Epoch 1/100\n",
      "154/154 [==============================] - 15s 89ms/step - loss: 10.6309 - accuracy: 0.4592\n",
      "Epoch 2/100\n",
      "154/154 [==============================] - 14s 89ms/step - loss: 10.1650 - accuracy: 0.5684\n",
      "Epoch 3/100\n",
      "154/154 [==============================] - 13s 87ms/step - loss: 9.9703 - accuracy: 0.5745\n",
      "Epoch 4/100\n",
      "154/154 [==============================] - 14s 90ms/step - loss: 9.8805 - accuracy: 0.5841\n",
      "Epoch 5/100\n",
      "154/154 [==============================] - 14s 91ms/step - loss: 9.7451 - accuracy: 0.5869\n",
      "Epoch 6/100\n",
      "154/154 [==============================] - 14s 90ms/step - loss: 9.6072 - accuracy: 0.5869\n",
      "Epoch 7/100\n",
      "154/154 [==============================] - 14s 90ms/step - loss: 9.4892 - accuracy: 0.5894\n",
      "Epoch 8/100\n",
      "154/154 [==============================] - 14s 92ms/step - loss: 9.3764 - accuracy: 0.5896\n",
      "Epoch 9/100\n",
      "154/154 [==============================] - 14s 94ms/step - loss: 9.2161 - accuracy: 0.5984\n",
      "Epoch 10/100\n",
      "154/154 [==============================] - 15s 95ms/step - loss: 9.1087 - accuracy: 0.5894\n",
      "Epoch 11/100\n",
      "154/154 [==============================] - 14s 93ms/step - loss: 8.9664 - accuracy: 0.5959\n",
      "Epoch 12/100\n",
      "154/154 [==============================] - 15s 98ms/step - loss: 8.8154 - accuracy: 0.5929\n",
      "Epoch 13/100\n",
      "154/154 [==============================] - 24s 157ms/step - loss: 8.6712 - accuracy: 0.6008\n",
      "Epoch 14/100\n",
      "154/154 [==============================] - 24s 155ms/step - loss: 8.5127 - accuracy: 0.5947\n",
      "Epoch 15/100\n",
      "154/154 [==============================] - 24s 156ms/step - loss: 8.4106 - accuracy: 0.5967\n",
      "Epoch 16/100\n",
      "154/154 [==============================] - 25s 162ms/step - loss: 8.2195 - accuracy: 0.5920\n",
      "Epoch 17/100\n",
      "154/154 [==============================] - 26s 167ms/step - loss: 8.1023 - accuracy: 0.6006\n",
      "Epoch 18/100\n",
      "154/154 [==============================] - 25s 164ms/step - loss: 8.0184 - accuracy: 0.5963\n",
      "Epoch 19/100\n",
      "154/154 [==============================] - 25s 164ms/step - loss: 7.8885 - accuracy: 0.6033\n",
      "Epoch 20/100\n",
      "154/154 [==============================] - 25s 161ms/step - loss: 7.7731 - accuracy: 0.6041\n",
      "Epoch 21/100\n",
      "154/154 [==============================] - 25s 161ms/step - loss: 7.6988 - accuracy: 0.6018\n",
      "Epoch 22/100\n",
      "154/154 [==============================] - 25s 164ms/step - loss: 7.6120 - accuracy: 0.6004\n",
      "Epoch 23/100\n",
      "154/154 [==============================] - 25s 165ms/step - loss: 7.5562 - accuracy: 0.5998\n",
      "Epoch 24/100\n",
      "154/154 [==============================] - 25s 161ms/step - loss: 7.4411 - accuracy: 0.6027\n",
      "Epoch 25/100\n",
      "154/154 [==============================] - 24s 159ms/step - loss: 7.3644 - accuracy: 0.6045\n",
      "Epoch 26/100\n",
      "154/154 [==============================] - 25s 161ms/step - loss: 7.2594 - accuracy: 0.6049\n",
      "Epoch 27/100\n",
      "154/154 [==============================] - 25s 162ms/step - loss: 7.2213 - accuracy: 0.6049\n",
      "Epoch 28/100\n",
      "154/154 [==============================] - 25s 164ms/step - loss: 7.1361 - accuracy: 0.5996\n",
      "Epoch 29/100\n",
      "154/154 [==============================] - 25s 161ms/step - loss: 7.0732 - accuracy: 0.6012\n",
      "Epoch 30/100\n",
      "154/154 [==============================] - 25s 160ms/step - loss: 6.9991 - accuracy: 0.6065\n",
      "Epoch 31/100\n",
      "154/154 [==============================] - 21s 133ms/step - loss: 6.9727 - accuracy: 0.6049\n",
      "Epoch 32/100\n",
      "154/154 [==============================] - 25s 161ms/step - loss: 6.9451 - accuracy: 0.6053\n",
      "Epoch 33/100\n",
      "154/154 [==============================] - 25s 162ms/step - loss: 6.9009 - accuracy: 0.6061\n",
      "Epoch 34/100\n",
      "154/154 [==============================] - 25s 165ms/step - loss: 6.8409 - accuracy: 0.6057\n",
      "Epoch 35/100\n",
      "154/154 [==============================] - 28s 181ms/step - loss: 6.8086 - accuracy: 0.6076\n",
      "Epoch 36/100\n",
      "154/154 [==============================] - 27s 178ms/step - loss: 6.7686 - accuracy: 0.6124\n",
      "Epoch 37/100\n",
      "154/154 [==============================] - 27s 175ms/step - loss: 6.7709 - accuracy: 0.6076\n",
      "Epoch 38/100\n",
      "154/154 [==============================] - 27s 174ms/step - loss: 6.7271 - accuracy: 0.6041\n",
      "Epoch 39/100\n",
      "154/154 [==============================] - 25s 164ms/step - loss: 6.7016 - accuracy: 0.6080\n",
      "Epoch 40/100\n",
      "154/154 [==============================] - 25s 163ms/step - loss: 6.6745 - accuracy: 0.6069\n",
      "Epoch 41/100\n",
      "154/154 [==============================] - 25s 163ms/step - loss: 6.6698 - accuracy: 0.6084\n",
      "Epoch 42/100\n",
      "154/154 [==============================] - 25s 163ms/step - loss: 6.6438 - accuracy: 0.6055\n",
      "Epoch 43/100\n",
      "154/154 [==============================] - 25s 165ms/step - loss: 6.6788 - accuracy: 0.6045\n",
      "Epoch 44/100\n",
      "154/154 [==============================] - 26s 168ms/step - loss: 6.6082 - accuracy: 0.6120\n",
      "Epoch 45/100\n",
      "154/154 [==============================] - 25s 163ms/step - loss: 6.5836 - accuracy: 0.6061\n",
      "Epoch 46/100\n",
      "154/154 [==============================] - 25s 163ms/step - loss: 6.5978 - accuracy: 0.6090\n",
      "Epoch 47/100\n",
      "154/154 [==============================] - 27s 177ms/step - loss: 6.5539 - accuracy: 0.6114\n",
      "Epoch 48/100\n",
      "154/154 [==============================] - 22s 141ms/step - loss: 6.5503 - accuracy: 0.6137\n",
      "Epoch 49/100\n",
      "154/154 [==============================] - 26s 171ms/step - loss: 6.5503 - accuracy: 0.6092\n",
      "Epoch 50/100\n",
      "154/154 [==============================] - 27s 173ms/step - loss: 6.5698 - accuracy: 0.6092\n",
      "Epoch 51/100\n",
      "154/154 [==============================] - 26s 172ms/step - loss: 6.5325 - accuracy: 0.6122\n",
      "Epoch 52/100\n",
      "154/154 [==============================] - 25s 163ms/step - loss: 6.5248 - accuracy: 0.6116\n",
      "Epoch 53/100\n",
      "154/154 [==============================] - 24s 158ms/step - loss: 6.4897 - accuracy: 0.6139\n",
      "Epoch 54/100\n",
      "154/154 [==============================] - 21s 134ms/step - loss: 6.5014 - accuracy: 0.6133\n",
      "Epoch 55/100\n",
      "154/154 [==============================] - 26s 166ms/step - loss: 6.5130 - accuracy: 0.6078\n",
      "Epoch 56/100\n",
      "154/154 [==============================] - 27s 172ms/step - loss: 6.5146 - accuracy: 0.6114\n",
      "Epoch 57/100\n",
      "154/154 [==============================] - 25s 162ms/step - loss: 6.4872 - accuracy: 0.6155\n",
      "Epoch 58/100\n",
      "154/154 [==============================] - 21s 138ms/step - loss: 6.4776 - accuracy: 0.6190\n",
      "Epoch 59/100\n",
      "154/154 [==============================] - 27s 173ms/step - loss: 6.5327 - accuracy: 0.6143\n",
      "Epoch 60/100\n",
      "154/154 [==============================] - 26s 168ms/step - loss: 6.4759 - accuracy: 0.6173\n",
      "Epoch 61/100\n",
      "154/154 [==============================] - 21s 135ms/step - loss: 6.4982 - accuracy: 0.6135\n",
      "Epoch 62/100\n",
      "154/154 [==============================] - 24s 154ms/step - loss: 6.4905 - accuracy: 0.6120\n",
      "Epoch 63/100\n",
      "154/154 [==============================] - 28s 180ms/step - loss: 6.4554 - accuracy: 0.6192\n",
      "Epoch 64/100\n",
      "154/154 [==============================] - 20s 132ms/step - loss: 6.4682 - accuracy: 0.6173\n",
      "Epoch 65/100\n",
      "154/154 [==============================] - 27s 173ms/step - loss: 6.4679 - accuracy: 0.6159\n",
      "Epoch 66/100\n",
      "154/154 [==============================] - 26s 166ms/step - loss: 6.4509 - accuracy: 0.6167\n",
      "Epoch 67/100\n",
      "154/154 [==============================] - 21s 138ms/step - loss: 6.4616 - accuracy: 0.6161\n",
      "Epoch 68/100\n",
      "154/154 [==============================] - 24s 159ms/step - loss: 6.4515 - accuracy: 0.6137\n",
      "Epoch 69/100\n",
      "154/154 [==============================] - 20s 133ms/step - loss: 6.4653 - accuracy: 0.6159\n",
      "Epoch 70/100\n",
      "154/154 [==============================] - 25s 160ms/step - loss: 6.4542 - accuracy: 0.6094\n",
      "Epoch 71/100\n",
      "154/154 [==============================] - 23s 152ms/step - loss: 6.4283 - accuracy: 0.6165\n",
      "Epoch 72/100\n",
      "154/154 [==============================] - 22s 145ms/step - loss: 6.4096 - accuracy: 0.6173\n",
      "Epoch 73/100\n",
      "154/154 [==============================] - 25s 163ms/step - loss: 6.4163 - accuracy: 0.6188\n",
      "Epoch 74/100\n",
      "154/154 [==============================] - 25s 161ms/step - loss: 6.4225 - accuracy: 0.6194\n",
      "Epoch 75/100\n",
      "154/154 [==============================] - 25s 162ms/step - loss: 6.4310 - accuracy: 0.6182\n",
      "Epoch 76/100\n",
      "154/154 [==============================] - 27s 174ms/step - loss: 6.4158 - accuracy: 0.6186\n",
      "Epoch 77/100\n",
      "154/154 [==============================] - 27s 173ms/step - loss: 6.4404 - accuracy: 0.6143\n",
      "Epoch 78/100\n",
      "154/154 [==============================] - 25s 164ms/step - loss: 6.4356 - accuracy: 0.6141\n",
      "Epoch 79/100\n",
      "154/154 [==============================] - 25s 162ms/step - loss: 6.4188 - accuracy: 0.6214\n",
      "Epoch 80/100\n",
      "154/154 [==============================] - 26s 167ms/step - loss: 6.4368 - accuracy: 0.6198\n",
      "Epoch 81/100\n",
      "154/154 [==============================] - 26s 170ms/step - loss: 6.4198 - accuracy: 0.6182\n",
      "Epoch 82/100\n",
      "154/154 [==============================] - 27s 175ms/step - loss: 6.4292 - accuracy: 0.6188\n",
      "Epoch 83/100\n",
      "154/154 [==============================] - 26s 171ms/step - loss: 6.4072 - accuracy: 0.6245\n",
      "Epoch 84/100\n",
      "154/154 [==============================] - 25s 163ms/step - loss: 6.4188 - accuracy: 0.6208\n",
      "Epoch 85/100\n",
      "154/154 [==============================] - 25s 161ms/step - loss: 6.4145 - accuracy: 0.6182\n",
      "Epoch 86/100\n",
      "154/154 [==============================] - 24s 158ms/step - loss: 6.4157 - accuracy: 0.6198\n",
      "Epoch 87/100\n",
      "154/154 [==============================] - 25s 159ms/step - loss: 6.4195 - accuracy: 0.6196\n",
      "Epoch 88/100\n",
      "154/154 [==============================] - 25s 160ms/step - loss: 6.4121 - accuracy: 0.6169\n",
      "Epoch 89/100\n",
      "154/154 [==============================] - 25s 160ms/step - loss: 6.4208 - accuracy: 0.6196\n",
      "Epoch 90/100\n",
      "154/154 [==============================] - 24s 156ms/step - loss: 6.4245 - accuracy: 0.6167\n",
      "Epoch 91/100\n",
      "154/154 [==============================] - 24s 159ms/step - loss: 6.4194 - accuracy: 0.6200\n",
      "Epoch 92/100\n",
      "154/154 [==============================] - 24s 158ms/step - loss: 6.4196 - accuracy: 0.6171\n",
      "Epoch 93/100\n",
      "154/154 [==============================] - 25s 159ms/step - loss: 6.4724 - accuracy: 0.6067\n",
      "Epoch 94/100\n",
      "154/154 [==============================] - 24s 157ms/step - loss: 6.4389 - accuracy: 0.6141\n",
      "Epoch 95/100\n",
      "154/154 [==============================] - 24s 158ms/step - loss: 6.4364 - accuracy: 0.6214\n",
      "Epoch 96/100\n",
      "154/154 [==============================] - 25s 161ms/step - loss: 6.4302 - accuracy: 0.6167\n",
      "Epoch 97/100\n",
      "154/154 [==============================] - 25s 162ms/step - loss: 6.4447 - accuracy: 0.6131\n",
      "Epoch 98/100\n",
      "154/154 [==============================] - 25s 160ms/step - loss: 6.4377 - accuracy: 0.6147\n",
      "Epoch 99/100\n",
      "154/154 [==============================] - 25s 160ms/step - loss: 6.4206 - accuracy: 0.6184\n",
      "Epoch 100/100\n",
      "154/154 [==============================] - 25s 159ms/step - loss: 6.4267 - accuracy: 0.6163\n",
      "66/66 [==============================] - 3s 23ms/step - loss: 6.3974 - accuracy: 0.6219\n",
      "Total Time :  2360.0902337\n",
      "Test Loss:  6.397386074066162\n",
      "Test Accuracy:  0.6219047904014587\n"
     ]
    }
   ],
   "source": [
    "total_epoch = 100\n",
    "\n",
    "start = timeit.default_timer() \n",
    "\n",
    "# total_Local_Models = 9\n",
    "\n",
    "\n",
    "# # Define local models\n",
    "# local_models = []\n",
    "# for i in range(total_Local_Models):\n",
    "#     model = tf.keras.Sequential([\n",
    "#         tf.keras.layers.Flatten(input_shape=(len(sequences[0]), total_amino_acids)),\n",
    "#         tf.keras.layers.Dense(512, activation='tanh',activity_regularizer=tf.keras.regularizers.l1(0.01)),\n",
    "#         tf.keras.layers.BatchNormalization(),\n",
    "#         tf.keras.layers.Dropout(0.5),\n",
    "#         tf.keras.layers.Dense(256, activation='tanh',activity_regularizer=tf.keras.regularizers.l1(0.01)),\n",
    "#         tf.keras.layers.BatchNormalization(),\n",
    "#         tf.keras.layers.Dropout(0.5),\n",
    "#         tf.keras.layers.Dense(128, activation='tanh',activity_regularizer=tf.keras.regularizers.l1(0.01)),\n",
    "#         tf.keras.layers.BatchNormalization(),\n",
    "#         tf.keras.layers.Dropout(0.5),\n",
    "#         tf.keras.layers.Dense(64, activation='tanh',activity_regularizer=tf.keras.regularizers.l1(0.01)),\n",
    "#         tf.keras.layers.BatchNormalization(),\n",
    "#         tf.keras.layers.Dropout(0.5),\n",
    "#         tf.keras.layers.Dense(32, activation='tanh',activity_regularizer=tf.keras.regularizers.l1(0.01)),\n",
    "#         tf.keras.layers.BatchNormalization(),\n",
    "#         tf.keras.layers.Dropout(0.5),\n",
    "# #         tf.keras.layers.Dense(16, activation='relu'),\n",
    "# #         tf.keras.layers.Dense(8, activation='relu'),\n",
    "#         tf.keras.layers.Dense(total_classes, activation='softmax')\n",
    "#     ])\n",
    "#     model.compile(optimizer='adam', loss='categorical_crossentropy', metrics=['accuracy'])\n",
    "#     local_models.append(model)\n",
    "\n",
    "# history = []\n",
    "# # Train local models\n",
    "# for i, (part, labels_part) in enumerate(zip(train_parts, label_parts)):\n",
    "#     history.append(local_models[i].fit(part, labels_part, epochs=total_epoch))\n",
    "\n",
    "# print(history[1].history.keys())  \n",
    "    \n",
    "#Define the global model\n",
    "global_model = tf.keras.Sequential([\n",
    "    tf.keras.layers.Flatten(input_shape=(len(sequences[0]), total_amino_acids)),\n",
    "    tf.keras.layers.Dense(512, activation='tanh',activity_regularizer=tf.keras.regularizers.l1(0.01)),\n",
    "    tf.keras.layers.BatchNormalization(),\n",
    "    tf.keras.layers.Dropout(0.5),\n",
    "    tf.keras.layers.Dense(256, activation='tanh',activity_regularizer=tf.keras.regularizers.l1(0.01)),\n",
    "    tf.keras.layers.BatchNormalization(),\n",
    "    tf.keras.layers.Dropout(0.5),\n",
    "    tf.keras.layers.Dense(128, activation='tanh',activity_regularizer=tf.keras.regularizers.l1(0.01)),\n",
    "    tf.keras.layers.BatchNormalization(),\n",
    "    tf.keras.layers.Dropout(0.5),\n",
    "    tf.keras.layers.Dense(64, activation='tanh',activity_regularizer=tf.keras.regularizers.l1(0.01)),\n",
    "    tf.keras.layers.BatchNormalization(),\n",
    "    tf.keras.layers.Dropout(0.5),\n",
    "    tf.keras.layers.Dense(32, activation='tanh',activity_regularizer=tf.keras.regularizers.l1(0.01)),\n",
    "    tf.keras.layers.BatchNormalization(),\n",
    "    tf.keras.layers.Dropout(0.5),\n",
    "#     tf.keras.layers.Dense(16, activation='relu'),\n",
    "#     tf.keras.layers.Dense(8, activation='relu'),\n",
    "    tf.keras.layers.Dense(total_classes, activation='softmax')\n",
    "    ])\n",
    "\n",
    "#Compile the global model\n",
    "global_model.compile(optimizer='adam', loss='categorical_crossentropy', metrics=['accuracy'])\n",
    "\n",
    "#Initialize the global model with weights from local models\n",
    "# weights = []\n",
    "# for local_model in local_models:\n",
    "#     weights.append(local_model.get_weights())\n",
    "\n",
    "# # Take Max Min and Mean - 3 Models \n",
    "\n",
    "# average_weights = []\n",
    "# for i in range(len(weights[0])):\n",
    "#     layer_weights = np.mean([w[i] for w in weights], axis=0)\n",
    "#     average_weights.append(layer_weights)\n",
    "\n",
    "# global_model.set_weights(model.get_weights())\n",
    "\n",
    "\n",
    "global_history=[]\n",
    "#Train the global model\n",
    "global_history = global_model.fit(X_train_1, y_train_1, epochs=total_epoch)\n",
    "\n",
    "#Evaluate the global model on test data\n",
    "test_loss, test_accuracy = global_model.evaluate(X_test, y_test)\n",
    "\n",
    "stop = timeit.default_timer()\n",
    "print(\"Total Time : \", stop - start) \n",
    "\n",
    "print(\"Test Loss: \", test_loss)\n",
    "print(\"Test Accuracy: \", test_accuracy)"
   ]
  },
  {
   "cell_type": "code",
   "execution_count": 13,
   "id": "97ebe4e3-7172-4a80-afcb-0fdee53d7953",
   "metadata": {},
   "outputs": [
    {
     "name": "stdout",
     "output_type": "stream",
     "text": [
      "dict_keys(['loss', 'accuracy'])\n"
     ]
    }
   ],
   "source": [
    "print(global_history.history.keys())"
   ]
  },
  {
   "cell_type": "code",
   "execution_count": 14,
   "id": "49ef70e7-6942-4bac-9a33-a3bdaec66d83",
   "metadata": {},
   "outputs": [
    {
     "name": "stdout",
     "output_type": "stream",
     "text": [
      "Model: \"sequential\"\n",
      "_________________________________________________________________\n",
      " Layer (type)                Output Shape              Param #   \n",
      "=================================================================\n",
      " flatten (Flatten)           (None, 26754)             0         \n",
      "                                                                 \n",
      " dense (Dense)               (None, 512)               13698560  \n",
      "                                                                 \n",
      " batch_normalization (BatchN  (None, 512)              2048      \n",
      " ormalization)                                                   \n",
      "                                                                 \n",
      " dropout (Dropout)           (None, 512)               0         \n",
      "                                                                 \n",
      " dense_1 (Dense)             (None, 256)               131328    \n",
      "                                                                 \n",
      " batch_normalization_1 (Batc  (None, 256)              1024      \n",
      " hNormalization)                                                 \n",
      "                                                                 \n",
      " dropout_1 (Dropout)         (None, 256)               0         \n",
      "                                                                 \n",
      " dense_2 (Dense)             (None, 128)               32896     \n",
      "                                                                 \n",
      " batch_normalization_2 (Batc  (None, 128)              512       \n",
      " hNormalization)                                                 \n",
      "                                                                 \n",
      " dropout_2 (Dropout)         (None, 128)               0         \n",
      "                                                                 \n",
      " dense_3 (Dense)             (None, 64)                8256      \n",
      "                                                                 \n",
      " batch_normalization_3 (Batc  (None, 64)               256       \n",
      " hNormalization)                                                 \n",
      "                                                                 \n",
      " dropout_3 (Dropout)         (None, 64)                0         \n",
      "                                                                 \n",
      " dense_4 (Dense)             (None, 32)                2080      \n",
      "                                                                 \n",
      " batch_normalization_4 (Batc  (None, 32)               128       \n",
      " hNormalization)                                                 \n",
      "                                                                 \n",
      " dropout_4 (Dropout)         (None, 32)                0         \n",
      "                                                                 \n",
      " dense_5 (Dense)             (None, 22)                726       \n",
      "                                                                 \n",
      "=================================================================\n",
      "Total params: 13,877,814\n",
      "Trainable params: 13,875,830\n",
      "Non-trainable params: 1,984\n",
      "_________________________________________________________________\n"
     ]
    }
   ],
   "source": [
    "global_model.summary()"
   ]
  },
  {
   "cell_type": "code",
   "execution_count": 15,
   "id": "8b8609c5-17be-4cd6-8a82-a9fd9e6e0e89",
   "metadata": {},
   "outputs": [],
   "source": [
    "# local_models[5].summary()"
   ]
  },
  {
   "cell_type": "markdown",
   "id": "0bc31f3f-06c7-4fa0-bd95-2ef69781e537",
   "metadata": {},
   "source": [
    "## Save Loss and Accuracy"
   ]
  },
  {
   "cell_type": "code",
   "execution_count": 16,
   "id": "9d73a904-7d86-4339-9dd2-d1dc76a16d1a",
   "metadata": {},
   "outputs": [],
   "source": [
    "d = {'accuracy':global_history.history['accuracy'] ,'loss':global_history.history['loss']}\n",
    "df = pd.DataFrame(d)\n",
    "df.index = np.arange(1, len(df) + 1)"
   ]
  },
  {
   "cell_type": "code",
   "execution_count": 22,
   "id": "9ccfe97f-5325-47fe-86f5-37e80a1f3bfd",
   "metadata": {},
   "outputs": [],
   "source": [
    "df.to_csv(\"C:/Users/pchourasia1/Desktop/FL_Workshop/results/Feed_Forward_loss_accuracy.csv\")"
   ]
  },
  {
   "cell_type": "markdown",
   "id": "2d838b7e-e82f-4809-bb86-e1c647d80d4f",
   "metadata": {},
   "source": [
    "## Metrics"
   ]
  },
  {
   "cell_type": "code",
   "execution_count": 23,
   "id": "0376efd1-00af-458f-b7d3-8a7845db321f",
   "metadata": {},
   "outputs": [
    {
     "data": {
      "text/plain": [
       "list"
      ]
     },
     "execution_count": 23,
     "metadata": {},
     "output_type": "execute_result"
    }
   ],
   "source": [
    "type(global_history.history['loss'])  "
   ]
  },
  {
   "cell_type": "code",
   "execution_count": 24,
   "id": "a5e35b50-34bd-4ebd-9ed3-1bb2f9a2cd75",
   "metadata": {},
   "outputs": [
    {
     "name": "stdout",
     "output_type": "stream",
     "text": [
      "[0.450204074382782, 0.5614285469055176, 0.5738775730133057, 0.5746938586235046, 0.5779591798782349, 0.5810204148292542, 0.5820407867431641, 0.5869387984275818, 0.5824489593505859, 0.5851020216941833, 0.586122453212738, 0.5885714292526245, 0.5932652950286865, 0.5928571224212646, 0.5922449231147766, 0.591020405292511, 0.5920408368110657, 0.594897985458374, 0.5818367600440979, 0.5918367505073547, 0.5902040600776672, 0.5983673334121704, 0.5932652950286865, 0.5930612087249756, 0.5942857265472412, 0.5951020121574402, 0.5940816402435303, 0.5981632471084595, 0.5912244915962219, 0.5922449231147766, 0.5987755060195923, 0.5979591608047485, 0.5971428751945496, 0.5938775539398193, 0.5975510478019714, 0.5930612087249756, 0.5932652950286865, 0.5983673334121704, 0.595714271068573, 0.5944898128509521, 0.5953060984611511, 0.5973469614982605, 0.5993877649307251, 0.600408136844635, 0.6057142615318298, 0.5983673334121704, 0.6018367409706116, 0.5981632471084595, 0.599795937538147, 0.6014285683631897, 0.5973469614982605, 0.5989795923233032, 0.6010203957557678, 0.6067346930503845, 0.599591851234436, 0.6032652854919434, 0.604285717010498, 0.6069387793540955, 0.5981632471084595, 0.6026530861854553, 0.6053061485290527, 0.604285717010498, 0.6055101752281189, 0.604489803314209, 0.6048979759216309, 0.6106122732162476, 0.6012244820594788, 0.6069387793540955, 0.6089795827865601, 0.599795937538147, 0.6069387793540955, 0.6032652854919434, 0.6030611991882324, 0.6059183478355408, 0.6028571724891663, 0.6034693717956543, 0.6083673238754272, 0.6048979759216309, 0.6104081869125366, 0.6083673238754272, 0.6018367409706116, 0.599591851234436, 0.6016326546669006, 0.6034693717956543, 0.5989795923233032, 0.5985714197158813, 0.6010203957557678, 0.6016326546669006, 0.6034693717956543, 0.6063265204429626, 0.6077551245689392, 0.604285717010498, 0.6063265204429626, 0.6120408177375793, 0.6112244725227356, 0.6028571724891663, 0.6055101752281189, 0.6065306067466736, 0.6118367314338684, 0.6051020622253418]\n"
     ]
    }
   ],
   "source": [
    "print(global_history.history['accuracy'])  "
   ]
  },
  {
   "cell_type": "code",
   "execution_count": 17,
   "id": "a83688f4",
   "metadata": {},
   "outputs": [
    {
     "name": "stdout",
     "output_type": "stream",
     "text": [
      "66/66 [==============================] - 2s 22ms/step\n",
      "Weighted precision:  0.5544147843057683\n",
      "Weighted recall:  0.621904761904762\n",
      "Weighted F1:  0.5654997821543777\n",
      "Macro F1:  0.12385106309381295\n",
      "ROC-AUC:  0.5735828521966204\n"
     ]
    },
    {
     "name": "stderr",
     "output_type": "stream",
     "text": [
      "C:\\Users\\pchourasia1\\Anaconda3\\lib\\site-packages\\sklearn\\metrics\\_classification.py:1334: UndefinedMetricWarning: Precision and F-score are ill-defined and being set to 0.0 in labels with no predicted samples. Use `zero_division` parameter to control this behavior.\n",
      "  _warn_prf(average, modifier, msg_start, len(result))\n"
     ]
    }
   ],
   "source": [
    "from sklearn.metrics import precision_recall_fscore_support, roc_auc_score\n",
    "from sklearn.preprocessing import LabelBinarizer\n",
    "from sklearn.metrics import f1_score\n",
    "\n",
    "# Make predictions on test set using the global model\n",
    "y_pred_global = global_model.predict(X_test)\n",
    "y_pred_global = np.argmax(y_pred_global, axis=1)\n",
    "y_test_original = np.argmax(y_test, axis=1)\n",
    "\n",
    "# Compute precision, recall, F1, and support for each class\n",
    "precision, recall, f1, support = precision_recall_fscore_support(y_test_original, y_pred_global, average='weighted')\n",
    "print(\"Weighted precision: \", precision)\n",
    "print(\"Weighted recall: \", recall)\n",
    "print(\"Weighted F1: \", f1)\n",
    "\n",
    "# Compute macro F1\n",
    "lb = LabelBinarizer()\n",
    "lb.fit(y_test_original)\n",
    "y_test_binarized = lb.transform(y_test_original)\n",
    "y_pred_global_binarized = lb.transform(y_pred_global)\n",
    "macro_f1 = f1_score(y_test_binarized, y_pred_global_binarized, average='macro')\n",
    "print(\"Macro F1: \", macro_f1)\n",
    "\n",
    "# Compute ROC-AUC\n",
    "roc_auc = roc_auc_score_multiclass(y_test_original, y_pred_global, average='macro')\n",
    "print(\"ROC-AUC: \", roc_auc[1])\n"
   ]
  },
  {
   "cell_type": "code",
   "execution_count": null,
   "id": "b11e9cd0-0705-413a-8b19-5faf557e621c",
   "metadata": {},
   "outputs": [],
   "source": []
  }
 ],
 "metadata": {
  "kernelspec": {
   "display_name": "Python 3",
   "language": "python",
   "name": "python3"
  },
  "language_info": {
   "codemirror_mode": {
    "name": "ipython",
    "version": 3
   },
   "file_extension": ".py",
   "mimetype": "text/x-python",
   "name": "python",
   "nbconvert_exporter": "python",
   "pygments_lexer": "ipython3",
   "version": "3.8.8"
  }
 },
 "nbformat": 4,
 "nbformat_minor": 5
}
